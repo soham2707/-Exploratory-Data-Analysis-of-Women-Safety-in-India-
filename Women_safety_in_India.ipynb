{
  "nbformat": 4,
  "nbformat_minor": 0,
  "metadata": {
    "colab": {
      "name": "Women safety in India.ipynb",
      "provenance": [],
      "collapsed_sections": []
    },
    "kernelspec": {
      "name": "python3",
      "display_name": "Python 3"
    },
    "language_info": {
      "name": "python"
    }
  },
  "cells": [
    {
      "cell_type": "code",
      "metadata": {
        "colab": {
          "resources": {
            "http://localhost:8080/nbextensions/google.colab/files.js": {
              "data": "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",
              "ok": true,
              "headers": [
                [
                  "content-type",
                  "application/javascript"
                ]
              ],
              "status": 200,
              "status_text": ""
            }
          },
          "base_uri": "https://localhost:8080/",
          "height": 72
        },
        "id": "SjJdInGhtSUc",
        "outputId": "b5f807d5-5d8a-4346-f13a-d99ffc22bb76"
      },
      "source": [
        "from google.colab import files\n",
        "uploaded = files.upload()"
      ],
      "execution_count": 1,
      "outputs": [
        {
          "output_type": "display_data",
          "data": {
            "text/html": [
              "\n",
              "     <input type=\"file\" id=\"files-bdc5b475-8cc9-486c-84dd-236236f392f6\" name=\"files[]\" multiple disabled\n",
              "        style=\"border:none\" />\n",
              "     <output id=\"result-bdc5b475-8cc9-486c-84dd-236236f392f6\">\n",
              "      Upload widget is only available when the cell has been executed in the\n",
              "      current browser session. Please rerun this cell to enable.\n",
              "      </output>\n",
              "      <script src=\"/nbextensions/google.colab/files.js\"></script> "
            ],
            "text/plain": [
              "<IPython.core.display.HTML object>"
            ]
          },
          "metadata": {
            "tags": []
          }
        },
        {
          "output_type": "stream",
          "text": [
            "Saving crimes_against_women_2001-2014.csv to crimes_against_women_2001-2014.csv\n"
          ],
          "name": "stdout"
        }
      ]
    },
    {
      "cell_type": "code",
      "metadata": {
        "id": "U7ZIIh_vuSzy"
      },
      "source": [
        "import io\n",
        "import pandas as pd\n",
        "\n",
        "\n",
        "crimes_df = pd.read_csv(io.BytesIO(uploaded['crimes_against_women_2001-2014.csv']))\n",
        "\n"
      ],
      "execution_count": 4,
      "outputs": []
    },
    {
      "cell_type": "code",
      "metadata": {
        "colab": {
          "base_uri": "https://localhost:8080/",
          "height": 555
        },
        "id": "jpfV62i_us74",
        "outputId": "58983e2d-1c21-48a3-dbcc-969227156d0c"
      },
      "source": [
        "crimes_df\n"
      ],
      "execution_count": 5,
      "outputs": [
        {
          "output_type": "execute_result",
          "data": {
            "text/html": [
              "<div>\n",
              "<style scoped>\n",
              "    .dataframe tbody tr th:only-of-type {\n",
              "        vertical-align: middle;\n",
              "    }\n",
              "\n",
              "    .dataframe tbody tr th {\n",
              "        vertical-align: top;\n",
              "    }\n",
              "\n",
              "    .dataframe thead th {\n",
              "        text-align: right;\n",
              "    }\n",
              "</style>\n",
              "<table border=\"1\" class=\"dataframe\">\n",
              "  <thead>\n",
              "    <tr style=\"text-align: right;\">\n",
              "      <th></th>\n",
              "      <th>Unnamed: 0</th>\n",
              "      <th>STATE/UT</th>\n",
              "      <th>DISTRICT</th>\n",
              "      <th>Year</th>\n",
              "      <th>Rape</th>\n",
              "      <th>Kidnapping and Abduction</th>\n",
              "      <th>Dowry Deaths</th>\n",
              "      <th>Assault on women with intent to outrage her modesty</th>\n",
              "      <th>Insult to modesty of Women</th>\n",
              "      <th>Cruelty by Husband or his Relatives</th>\n",
              "      <th>Importation of Girls</th>\n",
              "    </tr>\n",
              "  </thead>\n",
              "  <tbody>\n",
              "    <tr>\n",
              "      <th>0</th>\n",
              "      <td>0</td>\n",
              "      <td>ANDHRA PRADESH</td>\n",
              "      <td>ADILABAD</td>\n",
              "      <td>2001</td>\n",
              "      <td>50</td>\n",
              "      <td>30</td>\n",
              "      <td>16</td>\n",
              "      <td>149</td>\n",
              "      <td>34</td>\n",
              "      <td>175</td>\n",
              "      <td>0</td>\n",
              "    </tr>\n",
              "    <tr>\n",
              "      <th>1</th>\n",
              "      <td>1</td>\n",
              "      <td>ANDHRA PRADESH</td>\n",
              "      <td>ANANTAPUR</td>\n",
              "      <td>2001</td>\n",
              "      <td>23</td>\n",
              "      <td>30</td>\n",
              "      <td>7</td>\n",
              "      <td>118</td>\n",
              "      <td>24</td>\n",
              "      <td>154</td>\n",
              "      <td>0</td>\n",
              "    </tr>\n",
              "    <tr>\n",
              "      <th>2</th>\n",
              "      <td>2</td>\n",
              "      <td>ANDHRA PRADESH</td>\n",
              "      <td>CHITTOOR</td>\n",
              "      <td>2001</td>\n",
              "      <td>27</td>\n",
              "      <td>34</td>\n",
              "      <td>14</td>\n",
              "      <td>112</td>\n",
              "      <td>83</td>\n",
              "      <td>186</td>\n",
              "      <td>0</td>\n",
              "    </tr>\n",
              "    <tr>\n",
              "      <th>3</th>\n",
              "      <td>3</td>\n",
              "      <td>ANDHRA PRADESH</td>\n",
              "      <td>CUDDAPAH</td>\n",
              "      <td>2001</td>\n",
              "      <td>20</td>\n",
              "      <td>20</td>\n",
              "      <td>17</td>\n",
              "      <td>126</td>\n",
              "      <td>38</td>\n",
              "      <td>57</td>\n",
              "      <td>0</td>\n",
              "    </tr>\n",
              "    <tr>\n",
              "      <th>4</th>\n",
              "      <td>4</td>\n",
              "      <td>ANDHRA PRADESH</td>\n",
              "      <td>EAST GODAVARI</td>\n",
              "      <td>2001</td>\n",
              "      <td>23</td>\n",
              "      <td>26</td>\n",
              "      <td>12</td>\n",
              "      <td>109</td>\n",
              "      <td>58</td>\n",
              "      <td>247</td>\n",
              "      <td>0</td>\n",
              "    </tr>\n",
              "    <tr>\n",
              "      <th>...</th>\n",
              "      <td>...</td>\n",
              "      <td>...</td>\n",
              "      <td>...</td>\n",
              "      <td>...</td>\n",
              "      <td>...</td>\n",
              "      <td>...</td>\n",
              "      <td>...</td>\n",
              "      <td>...</td>\n",
              "      <td>...</td>\n",
              "      <td>...</td>\n",
              "      <td>...</td>\n",
              "    </tr>\n",
              "    <tr>\n",
              "      <th>10672</th>\n",
              "      <td>832</td>\n",
              "      <td>Lakshadweep</td>\n",
              "      <td>Lakshadweep</td>\n",
              "      <td>2014</td>\n",
              "      <td>1</td>\n",
              "      <td>0</td>\n",
              "      <td>0</td>\n",
              "      <td>1</td>\n",
              "      <td>2</td>\n",
              "      <td>0</td>\n",
              "      <td>0</td>\n",
              "    </tr>\n",
              "    <tr>\n",
              "      <th>10673</th>\n",
              "      <td>833</td>\n",
              "      <td>Lakshadweep</td>\n",
              "      <td>Total District(s)</td>\n",
              "      <td>2014</td>\n",
              "      <td>1</td>\n",
              "      <td>0</td>\n",
              "      <td>0</td>\n",
              "      <td>1</td>\n",
              "      <td>2</td>\n",
              "      <td>0</td>\n",
              "      <td>0</td>\n",
              "    </tr>\n",
              "    <tr>\n",
              "      <th>10674</th>\n",
              "      <td>834</td>\n",
              "      <td>Puducherry</td>\n",
              "      <td>Karaikal</td>\n",
              "      <td>2014</td>\n",
              "      <td>3</td>\n",
              "      <td>1</td>\n",
              "      <td>0</td>\n",
              "      <td>12</td>\n",
              "      <td>1</td>\n",
              "      <td>1</td>\n",
              "      <td>0</td>\n",
              "    </tr>\n",
              "    <tr>\n",
              "      <th>10675</th>\n",
              "      <td>835</td>\n",
              "      <td>Puducherry</td>\n",
              "      <td>Puducherry</td>\n",
              "      <td>2014</td>\n",
              "      <td>7</td>\n",
              "      <td>6</td>\n",
              "      <td>1</td>\n",
              "      <td>20</td>\n",
              "      <td>7</td>\n",
              "      <td>3</td>\n",
              "      <td>0</td>\n",
              "    </tr>\n",
              "    <tr>\n",
              "      <th>10676</th>\n",
              "      <td>836</td>\n",
              "      <td>Puducherry</td>\n",
              "      <td>Total District(s)</td>\n",
              "      <td>2014</td>\n",
              "      <td>10</td>\n",
              "      <td>7</td>\n",
              "      <td>1</td>\n",
              "      <td>32</td>\n",
              "      <td>8</td>\n",
              "      <td>4</td>\n",
              "      <td>0</td>\n",
              "    </tr>\n",
              "  </tbody>\n",
              "</table>\n",
              "<p>10677 rows × 11 columns</p>\n",
              "</div>"
            ],
            "text/plain": [
              "       Unnamed: 0  ... Importation of Girls\n",
              "0               0  ...                    0\n",
              "1               1  ...                    0\n",
              "2               2  ...                    0\n",
              "3               3  ...                    0\n",
              "4               4  ...                    0\n",
              "...           ...  ...                  ...\n",
              "10672         832  ...                    0\n",
              "10673         833  ...                    0\n",
              "10674         834  ...                    0\n",
              "10675         835  ...                    0\n",
              "10676         836  ...                    0\n",
              "\n",
              "[10677 rows x 11 columns]"
            ]
          },
          "metadata": {
            "tags": []
          },
          "execution_count": 5
        }
      ]
    },
    {
      "cell_type": "code",
      "metadata": {
        "colab": {
          "base_uri": "https://localhost:8080/"
        },
        "id": "j-mfncG3uwZY",
        "outputId": "3a821406-8bba-4d88-8370-4e02ce91da84"
      },
      "source": [
        "crimes_df.shape\n"
      ],
      "execution_count": 6,
      "outputs": [
        {
          "output_type": "execute_result",
          "data": {
            "text/plain": [
              "(10677, 11)"
            ]
          },
          "metadata": {
            "tags": []
          },
          "execution_count": 6
        }
      ]
    },
    {
      "cell_type": "markdown",
      "metadata": {
        "id": "twIayLVmu1Mw"
      },
      "source": [
        "**Data Preparation and Cleaning**\n",
        "To start with the very basic of data cleaning, let's find out if any of the columns have any Null or missing values\n"
      ]
    },
    {
      "cell_type": "code",
      "metadata": {
        "colab": {
          "base_uri": "https://localhost:8080/"
        },
        "id": "0luASMHFvDLp",
        "outputId": "fe969a1e-0366-4a9b-8810-44022364fe27"
      },
      "source": [
        "overall_crime = crimes_df.isna().sum()\n",
        "overall_crime\n"
      ],
      "execution_count": 7,
      "outputs": [
        {
          "output_type": "execute_result",
          "data": {
            "text/plain": [
              "Unnamed: 0                                             0\n",
              "STATE/UT                                               0\n",
              "DISTRICT                                               0\n",
              "Year                                                   0\n",
              "Rape                                                   0\n",
              "Kidnapping and Abduction                               0\n",
              "Dowry Deaths                                           0\n",
              "Assault on women with intent to outrage her modesty    0\n",
              "Insult to modesty of Women                             0\n",
              "Cruelty by Husband or his Relatives                    0\n",
              "Importation of Girls                                   0\n",
              "dtype: int64"
            ]
          },
          "metadata": {
            "tags": []
          },
          "execution_count": 7
        }
      ]
    },
    {
      "cell_type": "code",
      "metadata": {
        "colab": {
          "base_uri": "https://localhost:8080/"
        },
        "id": "fTcqfM-KvVag",
        "outputId": "cdffcbba-ae0d-4be3-d684-3fbe305bc754"
      },
      "source": [
        "districts = len(crimes_df.DISTRICT.unique())\n",
        "districts\n"
      ],
      "execution_count": 9,
      "outputs": [
        {
          "output_type": "execute_result",
          "data": {
            "text/plain": [
              "1605"
            ]
          },
          "metadata": {
            "tags": []
          },
          "execution_count": 9
        }
      ]
    },
    {
      "cell_type": "code",
      "metadata": {
        "colab": {
          "base_uri": "https://localhost:8080/",
          "height": 419
        },
        "id": "yz_F9TJWvi-B",
        "outputId": "8796d4fe-14b4-43b2-9930-1389d9538c62"
      },
      "source": [
        "crimes_df.drop(['DISTRICT', 'Unnamed: 0'], axis = 1, inplace=True)\n",
        "crimes_df.rename( columns = {'Kidnapping and Abduction':'Kidnapping_Abduction','Dowry Deaths':'Dowry_Deaths',\n",
        "                             'Assault on women with intent to outrage her modesty':'Hurting_of_womens_modesty',\n",
        "                             'Insult to modesty of Women':'Insult_to_womens_modesty',\n",
        "                             'Cruelty by Husband or his Relatives':'Domestic_Cruelty',\n",
        "                             'Importation of Girls':'Importation_of_Girls'}, inplace = True)\n",
        "crimes_df"
      ],
      "execution_count": 10,
      "outputs": [
        {
          "output_type": "execute_result",
          "data": {
            "text/html": [
              "<div>\n",
              "<style scoped>\n",
              "    .dataframe tbody tr th:only-of-type {\n",
              "        vertical-align: middle;\n",
              "    }\n",
              "\n",
              "    .dataframe tbody tr th {\n",
              "        vertical-align: top;\n",
              "    }\n",
              "\n",
              "    .dataframe thead th {\n",
              "        text-align: right;\n",
              "    }\n",
              "</style>\n",
              "<table border=\"1\" class=\"dataframe\">\n",
              "  <thead>\n",
              "    <tr style=\"text-align: right;\">\n",
              "      <th></th>\n",
              "      <th>STATE/UT</th>\n",
              "      <th>Year</th>\n",
              "      <th>Rape</th>\n",
              "      <th>Kidnapping_Abduction</th>\n",
              "      <th>Dowry_Deaths</th>\n",
              "      <th>Hurting_of_womens_modesty</th>\n",
              "      <th>Insult_to_womens_modesty</th>\n",
              "      <th>Domestic_Cruelty</th>\n",
              "      <th>Importation_of_Girls</th>\n",
              "    </tr>\n",
              "  </thead>\n",
              "  <tbody>\n",
              "    <tr>\n",
              "      <th>0</th>\n",
              "      <td>ANDHRA PRADESH</td>\n",
              "      <td>2001</td>\n",
              "      <td>50</td>\n",
              "      <td>30</td>\n",
              "      <td>16</td>\n",
              "      <td>149</td>\n",
              "      <td>34</td>\n",
              "      <td>175</td>\n",
              "      <td>0</td>\n",
              "    </tr>\n",
              "    <tr>\n",
              "      <th>1</th>\n",
              "      <td>ANDHRA PRADESH</td>\n",
              "      <td>2001</td>\n",
              "      <td>23</td>\n",
              "      <td>30</td>\n",
              "      <td>7</td>\n",
              "      <td>118</td>\n",
              "      <td>24</td>\n",
              "      <td>154</td>\n",
              "      <td>0</td>\n",
              "    </tr>\n",
              "    <tr>\n",
              "      <th>2</th>\n",
              "      <td>ANDHRA PRADESH</td>\n",
              "      <td>2001</td>\n",
              "      <td>27</td>\n",
              "      <td>34</td>\n",
              "      <td>14</td>\n",
              "      <td>112</td>\n",
              "      <td>83</td>\n",
              "      <td>186</td>\n",
              "      <td>0</td>\n",
              "    </tr>\n",
              "    <tr>\n",
              "      <th>3</th>\n",
              "      <td>ANDHRA PRADESH</td>\n",
              "      <td>2001</td>\n",
              "      <td>20</td>\n",
              "      <td>20</td>\n",
              "      <td>17</td>\n",
              "      <td>126</td>\n",
              "      <td>38</td>\n",
              "      <td>57</td>\n",
              "      <td>0</td>\n",
              "    </tr>\n",
              "    <tr>\n",
              "      <th>4</th>\n",
              "      <td>ANDHRA PRADESH</td>\n",
              "      <td>2001</td>\n",
              "      <td>23</td>\n",
              "      <td>26</td>\n",
              "      <td>12</td>\n",
              "      <td>109</td>\n",
              "      <td>58</td>\n",
              "      <td>247</td>\n",
              "      <td>0</td>\n",
              "    </tr>\n",
              "    <tr>\n",
              "      <th>...</th>\n",
              "      <td>...</td>\n",
              "      <td>...</td>\n",
              "      <td>...</td>\n",
              "      <td>...</td>\n",
              "      <td>...</td>\n",
              "      <td>...</td>\n",
              "      <td>...</td>\n",
              "      <td>...</td>\n",
              "      <td>...</td>\n",
              "    </tr>\n",
              "    <tr>\n",
              "      <th>10672</th>\n",
              "      <td>Lakshadweep</td>\n",
              "      <td>2014</td>\n",
              "      <td>1</td>\n",
              "      <td>0</td>\n",
              "      <td>0</td>\n",
              "      <td>1</td>\n",
              "      <td>2</td>\n",
              "      <td>0</td>\n",
              "      <td>0</td>\n",
              "    </tr>\n",
              "    <tr>\n",
              "      <th>10673</th>\n",
              "      <td>Lakshadweep</td>\n",
              "      <td>2014</td>\n",
              "      <td>1</td>\n",
              "      <td>0</td>\n",
              "      <td>0</td>\n",
              "      <td>1</td>\n",
              "      <td>2</td>\n",
              "      <td>0</td>\n",
              "      <td>0</td>\n",
              "    </tr>\n",
              "    <tr>\n",
              "      <th>10674</th>\n",
              "      <td>Puducherry</td>\n",
              "      <td>2014</td>\n",
              "      <td>3</td>\n",
              "      <td>1</td>\n",
              "      <td>0</td>\n",
              "      <td>12</td>\n",
              "      <td>1</td>\n",
              "      <td>1</td>\n",
              "      <td>0</td>\n",
              "    </tr>\n",
              "    <tr>\n",
              "      <th>10675</th>\n",
              "      <td>Puducherry</td>\n",
              "      <td>2014</td>\n",
              "      <td>7</td>\n",
              "      <td>6</td>\n",
              "      <td>1</td>\n",
              "      <td>20</td>\n",
              "      <td>7</td>\n",
              "      <td>3</td>\n",
              "      <td>0</td>\n",
              "    </tr>\n",
              "    <tr>\n",
              "      <th>10676</th>\n",
              "      <td>Puducherry</td>\n",
              "      <td>2014</td>\n",
              "      <td>10</td>\n",
              "      <td>7</td>\n",
              "      <td>1</td>\n",
              "      <td>32</td>\n",
              "      <td>8</td>\n",
              "      <td>4</td>\n",
              "      <td>0</td>\n",
              "    </tr>\n",
              "  </tbody>\n",
              "</table>\n",
              "<p>10677 rows × 9 columns</p>\n",
              "</div>"
            ],
            "text/plain": [
              "             STATE/UT  Year  ...  Domestic_Cruelty  Importation_of_Girls\n",
              "0      ANDHRA PRADESH  2001  ...               175                     0\n",
              "1      ANDHRA PRADESH  2001  ...               154                     0\n",
              "2      ANDHRA PRADESH  2001  ...               186                     0\n",
              "3      ANDHRA PRADESH  2001  ...                57                     0\n",
              "4      ANDHRA PRADESH  2001  ...               247                     0\n",
              "...               ...   ...  ...               ...                   ...\n",
              "10672     Lakshadweep  2014  ...                 0                     0\n",
              "10673     Lakshadweep  2014  ...                 0                     0\n",
              "10674      Puducherry  2014  ...                 1                     0\n",
              "10675      Puducherry  2014  ...                 3                     0\n",
              "10676      Puducherry  2014  ...                 4                     0\n",
              "\n",
              "[10677 rows x 9 columns]"
            ]
          },
          "metadata": {
            "tags": []
          },
          "execution_count": 10
        }
      ]
    },
    {
      "cell_type": "code",
      "metadata": {
        "colab": {
          "base_uri": "https://localhost:8080/"
        },
        "id": "nTHy8VxYvzeB",
        "outputId": "eaa59f9a-8a1c-4f57-b1ad-9530cfc6189f"
      },
      "source": [
        "print(crimes_df['STATE/UT'].unique())\n"
      ],
      "execution_count": 11,
      "outputs": [
        {
          "output_type": "stream",
          "text": [
            "['ANDHRA PRADESH' 'ARUNACHAL PRADESH' 'ASSAM' 'BIHAR' 'CHHATTISGARH' 'GOA'\n",
            " 'GUJARAT' 'HARYANA' 'HIMACHAL PRADESH' 'JAMMU & KASHMIR' 'JHARKHAND'\n",
            " 'KARNATAKA' 'KERALA' 'MADHYA PRADESH' 'MAHARASHTRA' 'MANIPUR' 'MEGHALAYA'\n",
            " 'MIZORAM' 'NAGALAND' 'ODISHA' 'PUNJAB' 'RAJASTHAN' 'SIKKIM' 'TAMIL NADU'\n",
            " 'TRIPURA' 'UTTAR PRADESH' 'UTTARAKHAND' 'WEST BENGAL' 'A & N ISLANDS'\n",
            " 'CHANDIGARH' 'D & N HAVELI' 'DAMAN & DIU' 'DELHI' 'LAKSHADWEEP'\n",
            " 'PUDUCHERRY' 'Andhra Pradesh' 'Arunachal Pradesh' 'Assam' 'Bihar'\n",
            " 'Chhattisgarh' 'Goa' 'Gujarat' 'Haryana' 'Himachal Pradesh'\n",
            " 'Jammu & Kashmir' 'Jharkhand' 'Karnataka' 'Kerala' 'Madhya Pradesh'\n",
            " 'Maharashtra' 'Manipur' 'Meghalaya' 'Mizoram' 'Nagaland' 'Odisha'\n",
            " 'Punjab' 'Rajasthan' 'Sikkim' 'Tamil Nadu' 'Tripura' 'Uttar Pradesh'\n",
            " 'Uttarakhand' 'West Bengal' 'A&N Islands' 'Chandigarh' 'D&N Haveli'\n",
            " 'Daman & Diu' 'Delhi UT' 'Lakshadweep' 'Puducherry' 'Telangana'\n",
            " 'A & N Islands']\n"
          ],
          "name": "stdout"
        }
      ]
    },
    {
      "cell_type": "code",
      "metadata": {
        "id": "zoBWV_fFv12x"
      },
      "source": [
        "def remove_uppercase(r):\n",
        "    r = r['STATE/UT'].strip()\n",
        "    r = r.upper()\n",
        "    return r\n",
        "crimes_df['STATE/UT'] = crimes_df.apply(remove_uppercase, axis=1)\n",
        "\n",
        "#Now use replace function to replace the other type of repeated datas as dicussed above\n",
        "crimes_df['STATE/UT'].replace(\"A&N ISLANDS\", \"A & N ISLANDS\", inplace = True)\n",
        "crimes_df['STATE/UT'].replace(\"D&N HAVELI\", \"D & N HAVELI\", inplace = True)\n",
        "crimes_df['STATE/UT'].replace(\"DELHI UT\", \"DELHI\", inplace = True)\n"
      ],
      "execution_count": 12,
      "outputs": []
    },
    {
      "cell_type": "code",
      "metadata": {
        "colab": {
          "base_uri": "https://localhost:8080/"
        },
        "id": "W1DYaPjFwM2h",
        "outputId": "0b14397b-561d-4c79-e360-ae3bf2dc3e09"
      },
      "source": [
        "crimes_df['STATE/UT'].unique()"
      ],
      "execution_count": 13,
      "outputs": [
        {
          "output_type": "execute_result",
          "data": {
            "text/plain": [
              "array(['ANDHRA PRADESH', 'ARUNACHAL PRADESH', 'ASSAM', 'BIHAR',\n",
              "       'CHHATTISGARH', 'GOA', 'GUJARAT', 'HARYANA', 'HIMACHAL PRADESH',\n",
              "       'JAMMU & KASHMIR', 'JHARKHAND', 'KARNATAKA', 'KERALA',\n",
              "       'MADHYA PRADESH', 'MAHARASHTRA', 'MANIPUR', 'MEGHALAYA', 'MIZORAM',\n",
              "       'NAGALAND', 'ODISHA', 'PUNJAB', 'RAJASTHAN', 'SIKKIM',\n",
              "       'TAMIL NADU', 'TRIPURA', 'UTTAR PRADESH', 'UTTARAKHAND',\n",
              "       'WEST BENGAL', 'A & N ISLANDS', 'CHANDIGARH', 'D & N HAVELI',\n",
              "       'DAMAN & DIU', 'DELHI', 'LAKSHADWEEP', 'PUDUCHERRY', 'TELANGANA'],\n",
              "      dtype=object)"
            ]
          },
          "metadata": {
            "tags": []
          },
          "execution_count": 13
        }
      ]
    },
    {
      "cell_type": "code",
      "metadata": {
        "id": "nUqwfH1WwR55"
      },
      "source": [
        ""
      ],
      "execution_count": null,
      "outputs": []
    },
    {
      "cell_type": "markdown",
      "metadata": {
        "id": "uVk_HRlCwT_R"
      },
      "source": [
        "**Now check the total number of States+UT**"
      ]
    },
    {
      "cell_type": "code",
      "metadata": {
        "colab": {
          "base_uri": "https://localhost:8080/"
        },
        "id": "VpGtD154wbUo",
        "outputId": "8763589e-a644-4447-89c6-eb126fa2c50d"
      },
      "source": [
        "len(crimes_df['STATE/UT'].unique())"
      ],
      "execution_count": 14,
      "outputs": [
        {
          "output_type": "execute_result",
          "data": {
            "text/plain": [
              "36"
            ]
          },
          "metadata": {
            "tags": []
          },
          "execution_count": 14
        }
      ]
    },
    {
      "cell_type": "markdown",
      "metadata": {
        "id": "9POrx4M_wiZ4"
      },
      "source": [
        "**Exploratory Analysis and Visualization**\n"
      ]
    },
    {
      "cell_type": "markdown",
      "metadata": {
        "id": "pChy96SJwn1o"
      },
      "source": [
        "Let us find out the total population of women over the years, 2001-2014, who has been a victim of the crime based on their gender.\n"
      ]
    },
    {
      "cell_type": "code",
      "metadata": {
        "id": "-Kt8Jd4swuRf"
      },
      "source": [
        "victims_raped = crimes_df.Rape.sum()\n",
        "victims_kidnapped_abducted = crimes_df.Kidnapping_Abduction.sum()\n",
        "dowery_death = crimes_df.Dowry_Deaths.sum()\n",
        "modesty_assault = crimes_df.Hurting_of_womens_modesty.sum()\n",
        "insult_to_modesty = crimes_df.Insult_to_womens_modesty.sum()\n",
        "domestic_violence = crimes_df.Domestic_Cruelty.sum()\n",
        "girls_imported = crimes_df.Importation_of_Girls.sum()"
      ],
      "execution_count": 15,
      "outputs": []
    },
    {
      "cell_type": "code",
      "metadata": {
        "colab": {
          "base_uri": "https://localhost:8080/"
        },
        "id": "LUVxFuAxweug",
        "outputId": "1bd36f38-35ce-419d-8cb3-57c4da4ee253"
      },
      "source": [
        "total_population_of_victim_overall = victims_raped + victims_raped + dowery_death +modesty_assault+ insult_to_modesty + domestic_violence+ girls_imported\n",
        "total_population_of_victim_overall"
      ],
      "execution_count": 16,
      "outputs": [
        {
          "output_type": "execute_result",
          "data": {
            "text/plain": [
              "5194570"
            ]
          },
          "metadata": {
            "tags": []
          },
          "execution_count": 16
        }
      ]
    },
    {
      "cell_type": "code",
      "metadata": {
        "id": "Bn2UFIlMw27x"
      },
      "source": [
        "import numpy as np\n",
        "import matplotlib.pyplot as plt\n",
        "import seaborn as sns"
      ],
      "execution_count": 17,
      "outputs": []
    },
    {
      "cell_type": "code",
      "metadata": {
        "colab": {
          "base_uri": "https://localhost:8080/",
          "height": 747
        },
        "id": "WWCg44EHxIdZ",
        "outputId": "2b62d3fe-cbb7-4a06-bfd9-ae8c9b204891"
      },
      "source": [
        "fig, axes = plt.subplots(2, 3, figsize=(25, 12))\n",
        "\n",
        "axes[0,0].set_title(\"Chart of rape cases in India in 2001-2014\")\n",
        "axes[0,0].bar(crimes_df.Year, crimes_df.Rape, color = 'black');\n",
        "plt.xlabel('Year') #X-axis\n",
        "plt.ylabel('Cases of Rape in India') #Y-axis\n",
        "\n",
        "axes[0,1].set_title(\"Chart of Kidnapping and Abduction cases in India in 2001-2014\")\n",
        "axes[0,1].bar(crimes_df.Year, crimes_df.Kidnapping_Abduction, color = 'violet');\n",
        "plt.xlabel('Year') #X-axis\n",
        "plt.ylabel('Cases of Kidnapping and Abduction in India') #Y-axis\n",
        "\n",
        "axes[0,2].set_title(\"Chart of Dowry death cases in India in 2001-2014\")\n",
        "axes[0,2].bar(crimes_df.Year, crimes_df.Dowry_Deaths, color = 'navy');\n",
        "plt.xlabel('Year') #X-axis\n",
        "plt.ylabel('Cases of Dowry deaths in India') #Y-axis\n",
        "\n",
        "axes[1,0].set_title(\"Chart of Assault to her modesty in 2001-2014\")\n",
        "axes[1,0].bar(crimes_df.Year, crimes_df.Hurting_of_womens_modesty, color = 'cyan');\n",
        "plt.xlabel('Year') #X-axis\n",
        "plt.ylabel('Cases of Assaulting a women for her modesty in India') #Y-axis\n",
        "\n",
        "axes[1,1].set_title(\"Chart of Domestic Violence cases in India in 2001-2014\")\n",
        "axes[1,1].bar(crimes_df.Year, crimes_df.Domestic_Cruelty, color = 'orange');\n",
        "plt.xlabel('Year') #X-axis\n",
        "plt.ylabel('Cases of Domestic Violence in India') #Y-axis\n",
        "\n",
        "axes[1,2].set_title(\"Chart of Importation of girls in India in 2001-2014\")\n",
        "axes[1,2].bar(crimes_df.Year, crimes_df.Importation_of_Girls, color = 'red');\n",
        "plt.xlabel('Year') #X-axis\n",
        "plt.ylabel('Cases ofImportation of girls in India') #Y-axis"
      ],
      "execution_count": 18,
      "outputs": [
        {
          "output_type": "execute_result",
          "data": {
            "text/plain": [
              "Text(0, 0.5, 'Cases ofImportation of girls in India')"
            ]
          },
          "metadata": {
            "tags": []
          },
          "execution_count": 18
        },
        {
          "output_type": "display_data",
          "data": {
            "image/png": "[encoded data removed]",
            "text/plain": [
              "<Figure size 1800x864 with 6 Axes>"
            ]
          },
          "metadata": {
            "tags": [],
            "needs_background": "light"
          }
        }
      ]
    },
    {
      "cell_type": "code",
      "metadata": {
        "id": "Hlr62prJxxkh"
      },
      "source": [
        ""
      ],
      "execution_count": null,
      "outputs": []
    },
    {
      "cell_type": "markdown",
      "metadata": {
        "id": "ix-0L0f9xz6h"
      },
      "source": [
        "**There are two things to be concluded from the above bar chart -**\n",
        "1) The cases have incraesed over the years.\n",
        "2) 2014 has been the year, where violance against women was reported the maximum, under each of the cases like, rape, domestic violence etc, which can also be proved below, which can also be cross examined with the code below."
      ]
    },
    {
      "cell_type": "code",
      "metadata": {
        "colab": {
          "base_uri": "https://localhost:8080/",
          "height": 514
        },
        "id": "4SnY9eXKx4_a",
        "outputId": "20b55ce4-3fef-4557-d30c-2d643c15fafe"
      },
      "source": [
        "count_df = crimes_df.groupby('Year')[['STATE/UT']].count()\n",
        "count_df\n",
        "\n"
      ],
      "execution_count": 19,
      "outputs": [
        {
          "output_type": "execute_result",
          "data": {
            "text/html": [
              "<div>\n",
              "<style scoped>\n",
              "    .dataframe tbody tr th:only-of-type {\n",
              "        vertical-align: middle;\n",
              "    }\n",
              "\n",
              "    .dataframe tbody tr th {\n",
              "        vertical-align: top;\n",
              "    }\n",
              "\n",
              "    .dataframe thead th {\n",
              "        text-align: right;\n",
              "    }\n",
              "</style>\n",
              "<table border=\"1\" class=\"dataframe\">\n",
              "  <thead>\n",
              "    <tr style=\"text-align: right;\">\n",
              "      <th></th>\n",
              "      <th>STATE/UT</th>\n",
              "    </tr>\n",
              "    <tr>\n",
              "      <th>Year</th>\n",
              "      <th></th>\n",
              "    </tr>\n",
              "  </thead>\n",
              "  <tbody>\n",
              "    <tr>\n",
              "      <th>2001</th>\n",
              "      <td>716</td>\n",
              "    </tr>\n",
              "    <tr>\n",
              "      <th>2002</th>\n",
              "      <td>719</td>\n",
              "    </tr>\n",
              "    <tr>\n",
              "      <th>2003</th>\n",
              "      <td>728</td>\n",
              "    </tr>\n",
              "    <tr>\n",
              "      <th>2004</th>\n",
              "      <td>729</td>\n",
              "    </tr>\n",
              "    <tr>\n",
              "      <th>2005</th>\n",
              "      <td>733</td>\n",
              "    </tr>\n",
              "    <tr>\n",
              "      <th>2006</th>\n",
              "      <td>740</td>\n",
              "    </tr>\n",
              "    <tr>\n",
              "      <th>2007</th>\n",
              "      <td>743</td>\n",
              "    </tr>\n",
              "    <tr>\n",
              "      <th>2008</th>\n",
              "      <td>761</td>\n",
              "    </tr>\n",
              "    <tr>\n",
              "      <th>2009</th>\n",
              "      <td>767</td>\n",
              "    </tr>\n",
              "    <tr>\n",
              "      <th>2010</th>\n",
              "      <td>779</td>\n",
              "    </tr>\n",
              "    <tr>\n",
              "      <th>2011</th>\n",
              "      <td>791</td>\n",
              "    </tr>\n",
              "    <tr>\n",
              "      <th>2012</th>\n",
              "      <td>811</td>\n",
              "    </tr>\n",
              "    <tr>\n",
              "      <th>2013</th>\n",
              "      <td>823</td>\n",
              "    </tr>\n",
              "    <tr>\n",
              "      <th>2014</th>\n",
              "      <td>837</td>\n",
              "    </tr>\n",
              "  </tbody>\n",
              "</table>\n",
              "</div>"
            ],
            "text/plain": [
              "      STATE/UT\n",
              "Year          \n",
              "2001       716\n",
              "2002       719\n",
              "2003       728\n",
              "2004       729\n",
              "2005       733\n",
              "2006       740\n",
              "2007       743\n",
              "2008       761\n",
              "2009       767\n",
              "2010       779\n",
              "2011       791\n",
              "2012       811\n",
              "2013       823\n",
              "2014       837"
            ]
          },
          "metadata": {
            "tags": []
          },
          "execution_count": 19
        }
      ]
    },
    {
      "cell_type": "markdown",
      "metadata": {
        "id": "wiIbH4sCyBdB"
      },
      "source": [
        "# Let us use seaborn to take help of heatmap to represent how more cases from each state started coming up more frequently with each passing year."
      ]
    },
    {
      "cell_type": "markdown",
      "metadata": {
        "id": "x2EwkTemyKi5"
      },
      "source": [
        ""
      ]
    },
    {
      "cell_type": "code",
      "metadata": {
        "colab": {
          "base_uri": "https://localhost:8080/",
          "height": 336
        },
        "id": "b-xMNPW_yLWy",
        "outputId": "af1bb7c6-f05a-499f-bd08-5fad17306f47"
      },
      "source": [
        "plt.figure(figsize=(10,5))\n",
        "plt.title(\"Total cases reported from every state Year wise\")\n",
        "sns.heatmap(count_df);\n"
      ],
      "execution_count": 20,
      "outputs": [
        {
          "output_type": "display_data",
          "data": {
            "image/png": "[encoded data removed]",
            "text/plain": [
              "<Figure size 720x360 with 2 Axes>"
            ]
          },
          "metadata": {
            "tags": [],
            "needs_background": "light"
          }
        }
      ]
    },
    {
      "cell_type": "markdown",
      "metadata": {
        "id": "jqO1RTA9yWeh"
      },
      "source": [
        "**Crime is increasing with year**\n"
      ]
    },
    {
      "cell_type": "markdown",
      "metadata": {
        "id": "mtpf1f41yh8x"
      },
      "source": [
        "# **Conclusion and Analysis **"
      ]
    },
    {
      "cell_type": "code",
      "metadata": {
        "id": "IPRIDsD6ydAi"
      },
      "source": [
        "crimes_df = crimes_df.drop(['Hurting_of_womens_modesty', 'Insult_to_womens_modesty'], axis=1)"
      ],
      "execution_count": 21,
      "outputs": []
    },
    {
      "cell_type": "markdown",
      "metadata": {
        "id": "ZzpR0HMVzEac"
      },
      "source": [
        "**Q . Create a dataframe containing 10 highest reported rape cases in India, in the span of year 2001-2014.**"
      ]
    },
    {
      "cell_type": "code",
      "metadata": {
        "colab": {
          "base_uri": "https://localhost:8080/",
          "height": 359
        },
        "id": "irLf0VOUzJ8I",
        "outputId": "1b5d6aa7-50c3-4422-a141-f752c1f74114"
      },
      "source": [
        "max_rape_cases = crimes_df.sort_values('Rape', ascending = False).head(10)\n",
        "max_rape_cases"
      ],
      "execution_count": 22,
      "outputs": [
        {
          "output_type": "execute_result",
          "data": {
            "text/html": [
              "<div>\n",
              "<style scoped>\n",
              "    .dataframe tbody tr th:only-of-type {\n",
              "        vertical-align: middle;\n",
              "    }\n",
              "\n",
              "    .dataframe tbody tr th {\n",
              "        vertical-align: top;\n",
              "    }\n",
              "\n",
              "    .dataframe thead th {\n",
              "        text-align: right;\n",
              "    }\n",
              "</style>\n",
              "<table border=\"1\" class=\"dataframe\">\n",
              "  <thead>\n",
              "    <tr style=\"text-align: right;\">\n",
              "      <th></th>\n",
              "      <th>STATE/UT</th>\n",
              "      <th>Year</th>\n",
              "      <th>Rape</th>\n",
              "      <th>Kidnapping_Abduction</th>\n",
              "      <th>Dowry_Deaths</th>\n",
              "      <th>Domestic_Cruelty</th>\n",
              "      <th>Importation_of_Girls</th>\n",
              "    </tr>\n",
              "  </thead>\n",
              "  <tbody>\n",
              "    <tr>\n",
              "      <th>10244</th>\n",
              "      <td>MADHYA PRADESH</td>\n",
              "      <td>2014</td>\n",
              "      <td>5076</td>\n",
              "      <td>5688</td>\n",
              "      <td>733</td>\n",
              "      <td>6451</td>\n",
              "      <td>0</td>\n",
              "    </tr>\n",
              "    <tr>\n",
              "      <th>9426</th>\n",
              "      <td>MADHYA PRADESH</td>\n",
              "      <td>2013</td>\n",
              "      <td>4335</td>\n",
              "      <td>2873</td>\n",
              "      <td>776</td>\n",
              "      <td>4988</td>\n",
              "      <td>7</td>\n",
              "    </tr>\n",
              "    <tr>\n",
              "      <th>10445</th>\n",
              "      <td>RAJASTHAN</td>\n",
              "      <td>2014</td>\n",
              "      <td>3759</td>\n",
              "      <td>4421</td>\n",
              "      <td>408</td>\n",
              "      <td>15905</td>\n",
              "      <td>0</td>\n",
              "    </tr>\n",
              "    <tr>\n",
              "      <th>10595</th>\n",
              "      <td>UTTAR PRADESH</td>\n",
              "      <td>2014</td>\n",
              "      <td>3467</td>\n",
              "      <td>10626</td>\n",
              "      <td>2469</td>\n",
              "      <td>10471</td>\n",
              "      <td>0</td>\n",
              "    </tr>\n",
              "    <tr>\n",
              "      <th>10291</th>\n",
              "      <td>MAHARASHTRA</td>\n",
              "      <td>2014</td>\n",
              "      <td>3438</td>\n",
              "      <td>2457</td>\n",
              "      <td>279</td>\n",
              "      <td>7696</td>\n",
              "      <td>1</td>\n",
              "    </tr>\n",
              "    <tr>\n",
              "      <th>8611</th>\n",
              "      <td>MADHYA PRADESH</td>\n",
              "      <td>2012</td>\n",
              "      <td>3425</td>\n",
              "      <td>1127</td>\n",
              "      <td>743</td>\n",
              "      <td>3988</td>\n",
              "      <td>6</td>\n",
              "    </tr>\n",
              "    <tr>\n",
              "      <th>7810</th>\n",
              "      <td>MADHYA PRADESH</td>\n",
              "      <td>2011</td>\n",
              "      <td>3406</td>\n",
              "      <td>1088</td>\n",
              "      <td>811</td>\n",
              "      <td>3732</td>\n",
              "      <td>45</td>\n",
              "    </tr>\n",
              "    <tr>\n",
              "      <th>9628</th>\n",
              "      <td>RAJASTHAN</td>\n",
              "      <td>2013</td>\n",
              "      <td>3285</td>\n",
              "      <td>4047</td>\n",
              "      <td>453</td>\n",
              "      <td>15094</td>\n",
              "      <td>1</td>\n",
              "    </tr>\n",
              "    <tr>\n",
              "      <th>7025</th>\n",
              "      <td>MADHYA PRADESH</td>\n",
              "      <td>2010</td>\n",
              "      <td>3135</td>\n",
              "      <td>1030</td>\n",
              "      <td>892</td>\n",
              "      <td>3756</td>\n",
              "      <td>5</td>\n",
              "    </tr>\n",
              "    <tr>\n",
              "      <th>9472</th>\n",
              "      <td>MAHARASHTRA</td>\n",
              "      <td>2013</td>\n",
              "      <td>3063</td>\n",
              "      <td>1874</td>\n",
              "      <td>320</td>\n",
              "      <td>8542</td>\n",
              "      <td>0</td>\n",
              "    </tr>\n",
              "  </tbody>\n",
              "</table>\n",
              "</div>"
            ],
            "text/plain": [
              "             STATE/UT  Year  ...  Domestic_Cruelty  Importation_of_Girls\n",
              "10244  MADHYA PRADESH  2014  ...              6451                     0\n",
              "9426   MADHYA PRADESH  2013  ...              4988                     7\n",
              "10445       RAJASTHAN  2014  ...             15905                     0\n",
              "10595   UTTAR PRADESH  2014  ...             10471                     0\n",
              "10291     MAHARASHTRA  2014  ...              7696                     1\n",
              "8611   MADHYA PRADESH  2012  ...              3988                     6\n",
              "7810   MADHYA PRADESH  2011  ...              3732                    45\n",
              "9628        RAJASTHAN  2013  ...             15094                     1\n",
              "7025   MADHYA PRADESH  2010  ...              3756                     5\n",
              "9472      MAHARASHTRA  2013  ...              8542                     0\n",
              "\n",
              "[10 rows x 7 columns]"
            ]
          },
          "metadata": {
            "tags": []
          },
          "execution_count": 22
        }
      ]
    },
    {
      "cell_type": "markdown",
      "metadata": {
        "id": "jWlJ4vPwzSdJ"
      },
      "source": [
        "**Q. Create a dataframe containing 10 highest reported Domestic Violance cases in India, in the span of year 2001-2014.**"
      ]
    },
    {
      "cell_type": "code",
      "metadata": {
        "colab": {
          "base_uri": "https://localhost:8080/",
          "height": 359
        },
        "id": "Vonyam-zzX1p",
        "outputId": "322cbc16-6fcb-46f7-a9ea-db5292742847"
      },
      "source": [
        "max_domestic_violance_cases = crimes_df.sort_values('Domestic_Cruelty', ascending = False).head(10)\n",
        "max_domestic_violance_cases"
      ],
      "execution_count": 23,
      "outputs": [
        {
          "output_type": "execute_result",
          "data": {
            "text/html": [
              "<div>\n",
              "<style scoped>\n",
              "    .dataframe tbody tr th:only-of-type {\n",
              "        vertical-align: middle;\n",
              "    }\n",
              "\n",
              "    .dataframe tbody tr th {\n",
              "        vertical-align: top;\n",
              "    }\n",
              "\n",
              "    .dataframe thead th {\n",
              "        text-align: right;\n",
              "    }\n",
              "</style>\n",
              "<table border=\"1\" class=\"dataframe\">\n",
              "  <thead>\n",
              "    <tr style=\"text-align: right;\">\n",
              "      <th></th>\n",
              "      <th>STATE/UT</th>\n",
              "      <th>Year</th>\n",
              "      <th>Rape</th>\n",
              "      <th>Kidnapping_Abduction</th>\n",
              "      <th>Dowry_Deaths</th>\n",
              "      <th>Domestic_Cruelty</th>\n",
              "      <th>Importation_of_Girls</th>\n",
              "    </tr>\n",
              "  </thead>\n",
              "  <tbody>\n",
              "    <tr>\n",
              "      <th>10640</th>\n",
              "      <td>WEST BENGAL</td>\n",
              "      <td>2014</td>\n",
              "      <td>1466</td>\n",
              "      <td>4976</td>\n",
              "      <td>501</td>\n",
              "      <td>23278</td>\n",
              "      <td>4</td>\n",
              "    </tr>\n",
              "    <tr>\n",
              "      <th>8982</th>\n",
              "      <td>WEST BENGAL</td>\n",
              "      <td>2012</td>\n",
              "      <td>2046</td>\n",
              "      <td>4168</td>\n",
              "      <td>593</td>\n",
              "      <td>19865</td>\n",
              "      <td>12</td>\n",
              "    </tr>\n",
              "    <tr>\n",
              "      <th>8172</th>\n",
              "      <td>WEST BENGAL</td>\n",
              "      <td>2011</td>\n",
              "      <td>2363</td>\n",
              "      <td>3711</td>\n",
              "      <td>510</td>\n",
              "      <td>19772</td>\n",
              "      <td>0</td>\n",
              "    </tr>\n",
              "    <tr>\n",
              "      <th>9804</th>\n",
              "      <td>WEST BENGAL</td>\n",
              "      <td>2013</td>\n",
              "      <td>1685</td>\n",
              "      <td>3830</td>\n",
              "      <td>481</td>\n",
              "      <td>18116</td>\n",
              "      <td>9</td>\n",
              "    </tr>\n",
              "    <tr>\n",
              "      <th>7381</th>\n",
              "      <td>WEST BENGAL</td>\n",
              "      <td>2010</td>\n",
              "      <td>2311</td>\n",
              "      <td>2764</td>\n",
              "      <td>507</td>\n",
              "      <td>17796</td>\n",
              "      <td>8</td>\n",
              "    </tr>\n",
              "    <tr>\n",
              "      <th>6602</th>\n",
              "      <td>WEST BENGAL</td>\n",
              "      <td>2009</td>\n",
              "      <td>2336</td>\n",
              "      <td>2187</td>\n",
              "      <td>506</td>\n",
              "      <td>16112</td>\n",
              "      <td>5</td>\n",
              "    </tr>\n",
              "    <tr>\n",
              "      <th>10445</th>\n",
              "      <td>RAJASTHAN</td>\n",
              "      <td>2014</td>\n",
              "      <td>3759</td>\n",
              "      <td>4421</td>\n",
              "      <td>408</td>\n",
              "      <td>15905</td>\n",
              "      <td>0</td>\n",
              "    </tr>\n",
              "    <tr>\n",
              "      <th>9628</th>\n",
              "      <td>RAJASTHAN</td>\n",
              "      <td>2013</td>\n",
              "      <td>3285</td>\n",
              "      <td>4047</td>\n",
              "      <td>453</td>\n",
              "      <td>15094</td>\n",
              "      <td>1</td>\n",
              "    </tr>\n",
              "    <tr>\n",
              "      <th>9050</th>\n",
              "      <td>ANDHRA PRADESH</td>\n",
              "      <td>2013</td>\n",
              "      <td>1635</td>\n",
              "      <td>1595</td>\n",
              "      <td>492</td>\n",
              "      <td>15084</td>\n",
              "      <td>0</td>\n",
              "    </tr>\n",
              "    <tr>\n",
              "      <th>5835</th>\n",
              "      <td>WEST BENGAL</td>\n",
              "      <td>2008</td>\n",
              "      <td>2263</td>\n",
              "      <td>1907</td>\n",
              "      <td>451</td>\n",
              "      <td>13663</td>\n",
              "      <td>5</td>\n",
              "    </tr>\n",
              "  </tbody>\n",
              "</table>\n",
              "</div>"
            ],
            "text/plain": [
              "             STATE/UT  Year  ...  Domestic_Cruelty  Importation_of_Girls\n",
              "10640     WEST BENGAL  2014  ...             23278                     4\n",
              "8982      WEST BENGAL  2012  ...             19865                    12\n",
              "8172      WEST BENGAL  2011  ...             19772                     0\n",
              "9804      WEST BENGAL  2013  ...             18116                     9\n",
              "7381      WEST BENGAL  2010  ...             17796                     8\n",
              "6602      WEST BENGAL  2009  ...             16112                     5\n",
              "10445       RAJASTHAN  2014  ...             15905                     0\n",
              "9628        RAJASTHAN  2013  ...             15094                     1\n",
              "9050   ANDHRA PRADESH  2013  ...             15084                     0\n",
              "5835      WEST BENGAL  2008  ...             13663                     5\n",
              "\n",
              "[10 rows x 7 columns]"
            ]
          },
          "metadata": {
            "tags": []
          },
          "execution_count": 23
        }
      ]
    },
    {
      "cell_type": "markdown",
      "metadata": {
        "id": "DKItFjOIzdxp"
      },
      "source": [
        "*Q. Create a dataframe containing 10 highest reported Importation cases in India, in the span of year 2001-2014.**"
      ]
    },
    {
      "cell_type": "code",
      "metadata": {
        "colab": {
          "base_uri": "https://localhost:8080/",
          "height": 359
        },
        "id": "irbxQ_ftzgeS",
        "outputId": "0d3a52e7-9002-48c5-95e4-c09a095e477f"
      },
      "source": [
        "max_importation_case = crimes_df.sort_values('Importation_of_Girls', ascending = False).head(10)\n",
        "max_importation_case"
      ],
      "execution_count": 24,
      "outputs": [
        {
          "output_type": "execute_result",
          "data": {
            "text/html": [
              "<div>\n",
              "<style scoped>\n",
              "    .dataframe tbody tr th:only-of-type {\n",
              "        vertical-align: middle;\n",
              "    }\n",
              "\n",
              "    .dataframe tbody tr th {\n",
              "        vertical-align: top;\n",
              "    }\n",
              "\n",
              "    .dataframe thead th {\n",
              "        text-align: right;\n",
              "    }\n",
              "</style>\n",
              "<table border=\"1\" class=\"dataframe\">\n",
              "  <thead>\n",
              "    <tr style=\"text-align: right;\">\n",
              "      <th></th>\n",
              "      <th>STATE/UT</th>\n",
              "      <th>Year</th>\n",
              "      <th>Rape</th>\n",
              "      <th>Kidnapping_Abduction</th>\n",
              "      <th>Dowry_Deaths</th>\n",
              "      <th>Domestic_Cruelty</th>\n",
              "      <th>Importation_of_Girls</th>\n",
              "    </tr>\n",
              "  </thead>\n",
              "  <tbody>\n",
              "    <tr>\n",
              "      <th>115</th>\n",
              "      <td>BIHAR</td>\n",
              "      <td>2001</td>\n",
              "      <td>888</td>\n",
              "      <td>518</td>\n",
              "      <td>859</td>\n",
              "      <td>1558</td>\n",
              "      <td>83</td>\n",
              "    </tr>\n",
              "    <tr>\n",
              "      <th>3013</th>\n",
              "      <td>BIHAR</td>\n",
              "      <td>2005</td>\n",
              "      <td>1147</td>\n",
              "      <td>929</td>\n",
              "      <td>1014</td>\n",
              "      <td>1574</td>\n",
              "      <td>74</td>\n",
              "    </tr>\n",
              "    <tr>\n",
              "      <th>3597</th>\n",
              "      <td>WEST BENGAL</td>\n",
              "      <td>2005</td>\n",
              "      <td>1686</td>\n",
              "      <td>1039</td>\n",
              "      <td>446</td>\n",
              "      <td>6936</td>\n",
              "      <td>61</td>\n",
              "    </tr>\n",
              "    <tr>\n",
              "      <th>3590</th>\n",
              "      <td>WEST BENGAL</td>\n",
              "      <td>2005</td>\n",
              "      <td>148</td>\n",
              "      <td>97</td>\n",
              "      <td>48</td>\n",
              "      <td>545</td>\n",
              "      <td>60</td>\n",
              "    </tr>\n",
              "    <tr>\n",
              "      <th>4486</th>\n",
              "      <td>BIHAR</td>\n",
              "      <td>2007</td>\n",
              "      <td>1555</td>\n",
              "      <td>1260</td>\n",
              "      <td>1172</td>\n",
              "      <td>1635</td>\n",
              "      <td>56</td>\n",
              "    </tr>\n",
              "    <tr>\n",
              "      <th>3005</th>\n",
              "      <td>BIHAR</td>\n",
              "      <td>2005</td>\n",
              "      <td>28</td>\n",
              "      <td>4</td>\n",
              "      <td>40</td>\n",
              "      <td>73</td>\n",
              "      <td>48</td>\n",
              "    </tr>\n",
              "    <tr>\n",
              "      <th>7810</th>\n",
              "      <td>MADHYA PRADESH</td>\n",
              "      <td>2011</td>\n",
              "      <td>3406</td>\n",
              "      <td>1088</td>\n",
              "      <td>811</td>\n",
              "      <td>3732</td>\n",
              "      <td>45</td>\n",
              "    </tr>\n",
              "    <tr>\n",
              "      <th>3746</th>\n",
              "      <td>BIHAR</td>\n",
              "      <td>2006</td>\n",
              "      <td>1232</td>\n",
              "      <td>1084</td>\n",
              "      <td>1188</td>\n",
              "      <td>1689</td>\n",
              "      <td>42</td>\n",
              "    </tr>\n",
              "    <tr>\n",
              "      <th>102</th>\n",
              "      <td>BIHAR</td>\n",
              "      <td>2001</td>\n",
              "      <td>27</td>\n",
              "      <td>11</td>\n",
              "      <td>90</td>\n",
              "      <td>152</td>\n",
              "      <td>39</td>\n",
              "    </tr>\n",
              "    <tr>\n",
              "      <th>5378</th>\n",
              "      <td>JHARKHAND</td>\n",
              "      <td>2008</td>\n",
              "      <td>791</td>\n",
              "      <td>499</td>\n",
              "      <td>266</td>\n",
              "      <td>851</td>\n",
              "      <td>39</td>\n",
              "    </tr>\n",
              "  </tbody>\n",
              "</table>\n",
              "</div>"
            ],
            "text/plain": [
              "            STATE/UT  Year  ...  Domestic_Cruelty  Importation_of_Girls\n",
              "115            BIHAR  2001  ...              1558                    83\n",
              "3013           BIHAR  2005  ...              1574                    74\n",
              "3597     WEST BENGAL  2005  ...              6936                    61\n",
              "3590     WEST BENGAL  2005  ...               545                    60\n",
              "4486           BIHAR  2007  ...              1635                    56\n",
              "3005           BIHAR  2005  ...                73                    48\n",
              "7810  MADHYA PRADESH  2011  ...              3732                    45\n",
              "3746           BIHAR  2006  ...              1689                    42\n",
              "102            BIHAR  2001  ...               152                    39\n",
              "5378       JHARKHAND  2008  ...               851                    39\n",
              "\n",
              "[10 rows x 7 columns]"
            ]
          },
          "metadata": {
            "tags": []
          },
          "execution_count": 24
        }
      ]
    },
    {
      "cell_type": "markdown",
      "metadata": {
        "id": "50PZ5b2ezurh"
      },
      "source": [
        "**Q. Find out the total number of cases, in span of 2001-2014 under each category, state wise.**"
      ]
    },
    {
      "cell_type": "code",
      "metadata": {
        "colab": {
          "base_uri": "https://localhost:8080/",
          "height": 1000
        },
        "id": "T2S5uuQ9zxqy",
        "outputId": "609e6d51-ad55-4163-9ecf-a7095c0119b2"
      },
      "source": [
        "counts_df = crimes_df.groupby('STATE/UT')[['Rape', 'Kidnapping_Abduction', 'Dowry_Deaths','Domestic_Cruelty', 'Importation_of_Girls']].sum()\n",
        "counts_df"
      ],
      "execution_count": 25,
      "outputs": [
        {
          "output_type": "execute_result",
          "data": {
            "text/html": [
              "<div>\n",
              "<style scoped>\n",
              "    .dataframe tbody tr th:only-of-type {\n",
              "        vertical-align: middle;\n",
              "    }\n",
              "\n",
              "    .dataframe tbody tr th {\n",
              "        vertical-align: top;\n",
              "    }\n",
              "\n",
              "    .dataframe thead th {\n",
              "        text-align: right;\n",
              "    }\n",
              "</style>\n",
              "<table border=\"1\" class=\"dataframe\">\n",
              "  <thead>\n",
              "    <tr style=\"text-align: right;\">\n",
              "      <th></th>\n",
              "      <th>Rape</th>\n",
              "      <th>Kidnapping_Abduction</th>\n",
              "      <th>Dowry_Deaths</th>\n",
              "      <th>Domestic_Cruelty</th>\n",
              "      <th>Importation_of_Girls</th>\n",
              "    </tr>\n",
              "    <tr>\n",
              "      <th>STATE/UT</th>\n",
              "      <th></th>\n",
              "      <th></th>\n",
              "      <th></th>\n",
              "      <th></th>\n",
              "      <th></th>\n",
              "    </tr>\n",
              "  </thead>\n",
              "  <tbody>\n",
              "    <tr>\n",
              "      <th>A &amp; N ISLANDS</th>\n",
              "      <td>336</td>\n",
              "      <td>212</td>\n",
              "      <td>20</td>\n",
              "      <td>288</td>\n",
              "      <td>0</td>\n",
              "    </tr>\n",
              "    <tr>\n",
              "      <th>ANDHRA PRADESH</th>\n",
              "      <td>32150</td>\n",
              "      <td>34504</td>\n",
              "      <td>13844</td>\n",
              "      <td>280906</td>\n",
              "      <td>34</td>\n",
              "    </tr>\n",
              "    <tr>\n",
              "      <th>ARUNACHAL PRADESH</th>\n",
              "      <td>1316</td>\n",
              "      <td>1470</td>\n",
              "      <td>6</td>\n",
              "      <td>476</td>\n",
              "      <td>0</td>\n",
              "    </tr>\n",
              "    <tr>\n",
              "      <th>ASSAM</th>\n",
              "      <td>40190</td>\n",
              "      <td>62074</td>\n",
              "      <td>3268</td>\n",
              "      <td>115300</td>\n",
              "      <td>22</td>\n",
              "    </tr>\n",
              "    <tr>\n",
              "      <th>BIHAR</th>\n",
              "      <td>30758</td>\n",
              "      <td>57086</td>\n",
              "      <td>32206</td>\n",
              "      <td>69770</td>\n",
              "      <td>904</td>\n",
              "    </tr>\n",
              "    <tr>\n",
              "      <th>CHANDIGARH</th>\n",
              "      <td>770</td>\n",
              "      <td>1682</td>\n",
              "      <td>90</td>\n",
              "      <td>2080</td>\n",
              "      <td>0</td>\n",
              "    </tr>\n",
              "    <tr>\n",
              "      <th>CHHATTISGARH</th>\n",
              "      <td>29308</td>\n",
              "      <td>11808</td>\n",
              "      <td>2758</td>\n",
              "      <td>23436</td>\n",
              "      <td>12</td>\n",
              "    </tr>\n",
              "    <tr>\n",
              "      <th>D &amp; N HAVELI</th>\n",
              "      <td>132</td>\n",
              "      <td>224</td>\n",
              "      <td>2</td>\n",
              "      <td>90</td>\n",
              "      <td>0</td>\n",
              "    </tr>\n",
              "    <tr>\n",
              "      <th>DAMAN &amp; DIU</th>\n",
              "      <td>60</td>\n",
              "      <td>44</td>\n",
              "      <td>6</td>\n",
              "      <td>76</td>\n",
              "      <td>0</td>\n",
              "    </tr>\n",
              "    <tr>\n",
              "      <th>DELHI</th>\n",
              "      <td>20312</td>\n",
              "      <td>46586</td>\n",
              "      <td>3758</td>\n",
              "      <td>42834</td>\n",
              "      <td>2</td>\n",
              "    </tr>\n",
              "    <tr>\n",
              "      <th>GOA</th>\n",
              "      <td>1062</td>\n",
              "      <td>640</td>\n",
              "      <td>38</td>\n",
              "      <td>532</td>\n",
              "      <td>0</td>\n",
              "    </tr>\n",
              "    <tr>\n",
              "      <th>GUJARAT</th>\n",
              "      <td>11644</td>\n",
              "      <td>34670</td>\n",
              "      <td>1108</td>\n",
              "      <td>146468</td>\n",
              "      <td>0</td>\n",
              "    </tr>\n",
              "    <tr>\n",
              "      <th>HARYANA</th>\n",
              "      <td>17110</td>\n",
              "      <td>20016</td>\n",
              "      <td>7372</td>\n",
              "      <td>68414</td>\n",
              "      <td>4</td>\n",
              "    </tr>\n",
              "    <tr>\n",
              "      <th>HIMACHAL PRADESH</th>\n",
              "      <td>4674</td>\n",
              "      <td>4116</td>\n",
              "      <td>112</td>\n",
              "      <td>7796</td>\n",
              "      <td>0</td>\n",
              "    </tr>\n",
              "    <tr>\n",
              "      <th>JAMMU &amp; KASHMIR</th>\n",
              "      <td>7038</td>\n",
              "      <td>21164</td>\n",
              "      <td>294</td>\n",
              "      <td>5390</td>\n",
              "      <td>0</td>\n",
              "    </tr>\n",
              "    <tr>\n",
              "      <th>JHARKHAND</th>\n",
              "      <td>22826</td>\n",
              "      <td>14186</td>\n",
              "      <td>7896</td>\n",
              "      <td>23910</td>\n",
              "      <td>298</td>\n",
              "    </tr>\n",
              "    <tr>\n",
              "      <th>KARNATAKA</th>\n",
              "      <td>15056</td>\n",
              "      <td>16262</td>\n",
              "      <td>7016</td>\n",
              "      <td>72706</td>\n",
              "      <td>94</td>\n",
              "    </tr>\n",
              "    <tr>\n",
              "      <th>KERALA</th>\n",
              "      <td>20030</td>\n",
              "      <td>4452</td>\n",
              "      <td>700</td>\n",
              "      <td>111626</td>\n",
              "      <td>0</td>\n",
              "    </tr>\n",
              "    <tr>\n",
              "      <th>LAKSHADWEEP</th>\n",
              "      <td>20</td>\n",
              "      <td>2</td>\n",
              "      <td>0</td>\n",
              "      <td>14</td>\n",
              "      <td>0</td>\n",
              "    </tr>\n",
              "    <tr>\n",
              "      <th>MADHYA PRADESH</th>\n",
              "      <td>90996</td>\n",
              "      <td>35608</td>\n",
              "      <td>21090</td>\n",
              "      <td>102816</td>\n",
              "      <td>134</td>\n",
              "    </tr>\n",
              "    <tr>\n",
              "      <th>MAHARASHTRA</th>\n",
              "      <td>48974</td>\n",
              "      <td>30368</td>\n",
              "      <td>9696</td>\n",
              "      <td>193202</td>\n",
              "      <td>6</td>\n",
              "    </tr>\n",
              "    <tr>\n",
              "      <th>MANIPUR</th>\n",
              "      <td>1068</td>\n",
              "      <td>2606</td>\n",
              "      <td>6</td>\n",
              "      <td>578</td>\n",
              "      <td>0</td>\n",
              "    </tr>\n",
              "    <tr>\n",
              "      <th>MEGHALAYA</th>\n",
              "      <td>2642</td>\n",
              "      <td>670</td>\n",
              "      <td>36</td>\n",
              "      <td>460</td>\n",
              "      <td>8</td>\n",
              "    </tr>\n",
              "    <tr>\n",
              "      <th>MIZORAM</th>\n",
              "      <td>2070</td>\n",
              "      <td>30</td>\n",
              "      <td>8</td>\n",
              "      <td>134</td>\n",
              "      <td>6</td>\n",
              "    </tr>\n",
              "    <tr>\n",
              "      <th>NAGALAND</th>\n",
              "      <td>562</td>\n",
              "      <td>190</td>\n",
              "      <td>2</td>\n",
              "      <td>32</td>\n",
              "      <td>2</td>\n",
              "    </tr>\n",
              "    <tr>\n",
              "      <th>ODISHA</th>\n",
              "      <td>30480</td>\n",
              "      <td>25588</td>\n",
              "      <td>10782</td>\n",
              "      <td>49206</td>\n",
              "      <td>36</td>\n",
              "    </tr>\n",
              "    <tr>\n",
              "      <th>PUDUCHERRY</th>\n",
              "      <td>208</td>\n",
              "      <td>306</td>\n",
              "      <td>56</td>\n",
              "      <td>234</td>\n",
              "      <td>0</td>\n",
              "    </tr>\n",
              "    <tr>\n",
              "      <th>PUNJAB</th>\n",
              "      <td>14656</td>\n",
              "      <td>15096</td>\n",
              "      <td>3524</td>\n",
              "      <td>30840</td>\n",
              "      <td>4</td>\n",
              "    </tr>\n",
              "    <tr>\n",
              "      <th>RAJASTHAN</th>\n",
              "      <td>45684</td>\n",
              "      <td>66278</td>\n",
              "      <td>11854</td>\n",
              "      <td>262200</td>\n",
              "      <td>14</td>\n",
              "    </tr>\n",
              "    <tr>\n",
              "      <th>SIKKIM</th>\n",
              "      <td>570</td>\n",
              "      <td>180</td>\n",
              "      <td>4</td>\n",
              "      <td>108</td>\n",
              "      <td>0</td>\n",
              "    </tr>\n",
              "    <tr>\n",
              "      <th>TAMIL NADU</th>\n",
              "      <td>16660</td>\n",
              "      <td>30908</td>\n",
              "      <td>5060</td>\n",
              "      <td>45524</td>\n",
              "      <td>30</td>\n",
              "    </tr>\n",
              "    <tr>\n",
              "      <th>TELANGANA</th>\n",
              "      <td>1958</td>\n",
              "      <td>1422</td>\n",
              "      <td>578</td>\n",
              "      <td>12738</td>\n",
              "      <td>0</td>\n",
              "    </tr>\n",
              "    <tr>\n",
              "      <th>TRIPURA</th>\n",
              "      <td>5060</td>\n",
              "      <td>2202</td>\n",
              "      <td>752</td>\n",
              "      <td>16086</td>\n",
              "      <td>0</td>\n",
              "    </tr>\n",
              "    <tr>\n",
              "      <th>UTTAR PRADESH</th>\n",
              "      <td>51150</td>\n",
              "      <td>135906</td>\n",
              "      <td>57256</td>\n",
              "      <td>193738</td>\n",
              "      <td>6</td>\n",
              "    </tr>\n",
              "    <tr>\n",
              "      <th>UTTARAKHAND</th>\n",
              "      <td>3752</td>\n",
              "      <td>6484</td>\n",
              "      <td>1974</td>\n",
              "      <td>9756</td>\n",
              "      <td>2</td>\n",
              "    </tr>\n",
              "    <tr>\n",
              "      <th>WEST BENGAL</th>\n",
              "      <td>47876</td>\n",
              "      <td>61158</td>\n",
              "      <td>12308</td>\n",
              "      <td>344124</td>\n",
              "      <td>254</td>\n",
              "    </tr>\n",
              "  </tbody>\n",
              "</table>\n",
              "</div>"
            ],
            "text/plain": [
              "                    Rape  ...  Importation_of_Girls\n",
              "STATE/UT                  ...                      \n",
              "A & N ISLANDS        336  ...                     0\n",
              "ANDHRA PRADESH     32150  ...                    34\n",
              "ARUNACHAL PRADESH   1316  ...                     0\n",
              "ASSAM              40190  ...                    22\n",
              "BIHAR              30758  ...                   904\n",
              "CHANDIGARH           770  ...                     0\n",
              "CHHATTISGARH       29308  ...                    12\n",
              "D & N HAVELI         132  ...                     0\n",
              "DAMAN & DIU           60  ...                     0\n",
              "DELHI              20312  ...                     2\n",
              "GOA                 1062  ...                     0\n",
              "GUJARAT            11644  ...                     0\n",
              "HARYANA            17110  ...                     4\n",
              "HIMACHAL PRADESH    4674  ...                     0\n",
              "JAMMU & KASHMIR     7038  ...                     0\n",
              "JHARKHAND          22826  ...                   298\n",
              "KARNATAKA          15056  ...                    94\n",
              "KERALA             20030  ...                     0\n",
              "LAKSHADWEEP           20  ...                     0\n",
              "MADHYA PRADESH     90996  ...                   134\n",
              "MAHARASHTRA        48974  ...                     6\n",
              "MANIPUR             1068  ...                     0\n",
              "MEGHALAYA           2642  ...                     8\n",
              "MIZORAM             2070  ...                     6\n",
              "NAGALAND             562  ...                     2\n",
              "ODISHA             30480  ...                    36\n",
              "PUDUCHERRY           208  ...                     0\n",
              "PUNJAB             14656  ...                     4\n",
              "RAJASTHAN          45684  ...                    14\n",
              "SIKKIM               570  ...                     0\n",
              "TAMIL NADU         16660  ...                    30\n",
              "TELANGANA           1958  ...                     0\n",
              "TRIPURA             5060  ...                     0\n",
              "UTTAR PRADESH      51150  ...                     6\n",
              "UTTARAKHAND         3752  ...                     2\n",
              "WEST BENGAL        47876  ...                   254\n",
              "\n",
              "[36 rows x 5 columns]"
            ]
          },
          "metadata": {
            "tags": []
          },
          "execution_count": 25
        }
      ]
    },
    {
      "cell_type": "markdown",
      "metadata": {
        "id": "o5m0mScMz93B"
      },
      "source": [
        "**Q. Find out the top 5 states, where maximum numbers of cases has been reported in TOTAL in span of 2001-2014, each category wise.**"
      ]
    },
    {
      "cell_type": "markdown",
      "metadata": {
        "id": "xsvrYnBjz_r5"
      },
      "source": [
        "For \"Rape\" case -\n"
      ]
    },
    {
      "cell_type": "code",
      "metadata": {
        "colab": {
          "base_uri": "https://localhost:8080/",
          "height": 235
        },
        "id": "M4Bl8A8D0Cix",
        "outputId": "0fb98df6-84ee-4b04-f787-800d78e4a88e"
      },
      "source": [
        "counts_df.sort_values(by = 'Rape', ascending = False).head(5)"
      ],
      "execution_count": 26,
      "outputs": [
        {
          "output_type": "execute_result",
          "data": {
            "text/html": [
              "<div>\n",
              "<style scoped>\n",
              "    .dataframe tbody tr th:only-of-type {\n",
              "        vertical-align: middle;\n",
              "    }\n",
              "\n",
              "    .dataframe tbody tr th {\n",
              "        vertical-align: top;\n",
              "    }\n",
              "\n",
              "    .dataframe thead th {\n",
              "        text-align: right;\n",
              "    }\n",
              "</style>\n",
              "<table border=\"1\" class=\"dataframe\">\n",
              "  <thead>\n",
              "    <tr style=\"text-align: right;\">\n",
              "      <th></th>\n",
              "      <th>Rape</th>\n",
              "      <th>Kidnapping_Abduction</th>\n",
              "      <th>Dowry_Deaths</th>\n",
              "      <th>Domestic_Cruelty</th>\n",
              "      <th>Importation_of_Girls</th>\n",
              "    </tr>\n",
              "    <tr>\n",
              "      <th>STATE/UT</th>\n",
              "      <th></th>\n",
              "      <th></th>\n",
              "      <th></th>\n",
              "      <th></th>\n",
              "      <th></th>\n",
              "    </tr>\n",
              "  </thead>\n",
              "  <tbody>\n",
              "    <tr>\n",
              "      <th>MADHYA PRADESH</th>\n",
              "      <td>90996</td>\n",
              "      <td>35608</td>\n",
              "      <td>21090</td>\n",
              "      <td>102816</td>\n",
              "      <td>134</td>\n",
              "    </tr>\n",
              "    <tr>\n",
              "      <th>UTTAR PRADESH</th>\n",
              "      <td>51150</td>\n",
              "      <td>135906</td>\n",
              "      <td>57256</td>\n",
              "      <td>193738</td>\n",
              "      <td>6</td>\n",
              "    </tr>\n",
              "    <tr>\n",
              "      <th>MAHARASHTRA</th>\n",
              "      <td>48974</td>\n",
              "      <td>30368</td>\n",
              "      <td>9696</td>\n",
              "      <td>193202</td>\n",
              "      <td>6</td>\n",
              "    </tr>\n",
              "    <tr>\n",
              "      <th>WEST BENGAL</th>\n",
              "      <td>47876</td>\n",
              "      <td>61158</td>\n",
              "      <td>12308</td>\n",
              "      <td>344124</td>\n",
              "      <td>254</td>\n",
              "    </tr>\n",
              "    <tr>\n",
              "      <th>RAJASTHAN</th>\n",
              "      <td>45684</td>\n",
              "      <td>66278</td>\n",
              "      <td>11854</td>\n",
              "      <td>262200</td>\n",
              "      <td>14</td>\n",
              "    </tr>\n",
              "  </tbody>\n",
              "</table>\n",
              "</div>"
            ],
            "text/plain": [
              "                 Rape  ...  Importation_of_Girls\n",
              "STATE/UT               ...                      \n",
              "MADHYA PRADESH  90996  ...                   134\n",
              "UTTAR PRADESH   51150  ...                     6\n",
              "MAHARASHTRA     48974  ...                     6\n",
              "WEST BENGAL     47876  ...                   254\n",
              "RAJASTHAN       45684  ...                    14\n",
              "\n",
              "[5 rows x 5 columns]"
            ]
          },
          "metadata": {
            "tags": []
          },
          "execution_count": 26
        }
      ]
    },
    {
      "cell_type": "markdown",
      "metadata": {
        "id": "V9ru14kf0JYh"
      },
      "source": [
        "For Kidnapping and abduction case -"
      ]
    },
    {
      "cell_type": "code",
      "metadata": {
        "colab": {
          "base_uri": "https://localhost:8080/",
          "height": 235
        },
        "id": "ZcloUYha0NDi",
        "outputId": "55793a44-163f-4f8e-80ba-b65146ae653c"
      },
      "source": [
        "counts_df.sort_values(by = 'Kidnapping_Abduction', ascending = False).head(5)"
      ],
      "execution_count": 27,
      "outputs": [
        {
          "output_type": "execute_result",
          "data": {
            "text/html": [
              "<div>\n",
              "<style scoped>\n",
              "    .dataframe tbody tr th:only-of-type {\n",
              "        vertical-align: middle;\n",
              "    }\n",
              "\n",
              "    .dataframe tbody tr th {\n",
              "        vertical-align: top;\n",
              "    }\n",
              "\n",
              "    .dataframe thead th {\n",
              "        text-align: right;\n",
              "    }\n",
              "</style>\n",
              "<table border=\"1\" class=\"dataframe\">\n",
              "  <thead>\n",
              "    <tr style=\"text-align: right;\">\n",
              "      <th></th>\n",
              "      <th>Rape</th>\n",
              "      <th>Kidnapping_Abduction</th>\n",
              "      <th>Dowry_Deaths</th>\n",
              "      <th>Domestic_Cruelty</th>\n",
              "      <th>Importation_of_Girls</th>\n",
              "    </tr>\n",
              "    <tr>\n",
              "      <th>STATE/UT</th>\n",
              "      <th></th>\n",
              "      <th></th>\n",
              "      <th></th>\n",
              "      <th></th>\n",
              "      <th></th>\n",
              "    </tr>\n",
              "  </thead>\n",
              "  <tbody>\n",
              "    <tr>\n",
              "      <th>UTTAR PRADESH</th>\n",
              "      <td>51150</td>\n",
              "      <td>135906</td>\n",
              "      <td>57256</td>\n",
              "      <td>193738</td>\n",
              "      <td>6</td>\n",
              "    </tr>\n",
              "    <tr>\n",
              "      <th>RAJASTHAN</th>\n",
              "      <td>45684</td>\n",
              "      <td>66278</td>\n",
              "      <td>11854</td>\n",
              "      <td>262200</td>\n",
              "      <td>14</td>\n",
              "    </tr>\n",
              "    <tr>\n",
              "      <th>ASSAM</th>\n",
              "      <td>40190</td>\n",
              "      <td>62074</td>\n",
              "      <td>3268</td>\n",
              "      <td>115300</td>\n",
              "      <td>22</td>\n",
              "    </tr>\n",
              "    <tr>\n",
              "      <th>WEST BENGAL</th>\n",
              "      <td>47876</td>\n",
              "      <td>61158</td>\n",
              "      <td>12308</td>\n",
              "      <td>344124</td>\n",
              "      <td>254</td>\n",
              "    </tr>\n",
              "    <tr>\n",
              "      <th>BIHAR</th>\n",
              "      <td>30758</td>\n",
              "      <td>57086</td>\n",
              "      <td>32206</td>\n",
              "      <td>69770</td>\n",
              "      <td>904</td>\n",
              "    </tr>\n",
              "  </tbody>\n",
              "</table>\n",
              "</div>"
            ],
            "text/plain": [
              "                Rape  ...  Importation_of_Girls\n",
              "STATE/UT              ...                      \n",
              "UTTAR PRADESH  51150  ...                     6\n",
              "RAJASTHAN      45684  ...                    14\n",
              "ASSAM          40190  ...                    22\n",
              "WEST BENGAL    47876  ...                   254\n",
              "BIHAR          30758  ...                   904\n",
              "\n",
              "[5 rows x 5 columns]"
            ]
          },
          "metadata": {
            "tags": []
          },
          "execution_count": 27
        }
      ]
    },
    {
      "cell_type": "markdown",
      "metadata": {
        "id": "NG6iqVhb0Su6"
      },
      "source": [
        "For cases of deaths due to dowry -"
      ]
    },
    {
      "cell_type": "code",
      "metadata": {
        "colab": {
          "base_uri": "https://localhost:8080/",
          "height": 235
        },
        "id": "veBQ6sff0Tvi",
        "outputId": "58f970c0-42c1-4ea2-9de7-200843878d7b"
      },
      "source": [
        "counts_df.sort_values(by = 'Dowry_Deaths', ascending = False).head(5)\n"
      ],
      "execution_count": 28,
      "outputs": [
        {
          "output_type": "execute_result",
          "data": {
            "text/html": [
              "<div>\n",
              "<style scoped>\n",
              "    .dataframe tbody tr th:only-of-type {\n",
              "        vertical-align: middle;\n",
              "    }\n",
              "\n",
              "    .dataframe tbody tr th {\n",
              "        vertical-align: top;\n",
              "    }\n",
              "\n",
              "    .dataframe thead th {\n",
              "        text-align: right;\n",
              "    }\n",
              "</style>\n",
              "<table border=\"1\" class=\"dataframe\">\n",
              "  <thead>\n",
              "    <tr style=\"text-align: right;\">\n",
              "      <th></th>\n",
              "      <th>Rape</th>\n",
              "      <th>Kidnapping_Abduction</th>\n",
              "      <th>Dowry_Deaths</th>\n",
              "      <th>Domestic_Cruelty</th>\n",
              "      <th>Importation_of_Girls</th>\n",
              "    </tr>\n",
              "    <tr>\n",
              "      <th>STATE/UT</th>\n",
              "      <th></th>\n",
              "      <th></th>\n",
              "      <th></th>\n",
              "      <th></th>\n",
              "      <th></th>\n",
              "    </tr>\n",
              "  </thead>\n",
              "  <tbody>\n",
              "    <tr>\n",
              "      <th>UTTAR PRADESH</th>\n",
              "      <td>51150</td>\n",
              "      <td>135906</td>\n",
              "      <td>57256</td>\n",
              "      <td>193738</td>\n",
              "      <td>6</td>\n",
              "    </tr>\n",
              "    <tr>\n",
              "      <th>BIHAR</th>\n",
              "      <td>30758</td>\n",
              "      <td>57086</td>\n",
              "      <td>32206</td>\n",
              "      <td>69770</td>\n",
              "      <td>904</td>\n",
              "    </tr>\n",
              "    <tr>\n",
              "      <th>MADHYA PRADESH</th>\n",
              "      <td>90996</td>\n",
              "      <td>35608</td>\n",
              "      <td>21090</td>\n",
              "      <td>102816</td>\n",
              "      <td>134</td>\n",
              "    </tr>\n",
              "    <tr>\n",
              "      <th>ANDHRA PRADESH</th>\n",
              "      <td>32150</td>\n",
              "      <td>34504</td>\n",
              "      <td>13844</td>\n",
              "      <td>280906</td>\n",
              "      <td>34</td>\n",
              "    </tr>\n",
              "    <tr>\n",
              "      <th>WEST BENGAL</th>\n",
              "      <td>47876</td>\n",
              "      <td>61158</td>\n",
              "      <td>12308</td>\n",
              "      <td>344124</td>\n",
              "      <td>254</td>\n",
              "    </tr>\n",
              "  </tbody>\n",
              "</table>\n",
              "</div>"
            ],
            "text/plain": [
              "                 Rape  ...  Importation_of_Girls\n",
              "STATE/UT               ...                      \n",
              "UTTAR PRADESH   51150  ...                     6\n",
              "BIHAR           30758  ...                   904\n",
              "MADHYA PRADESH  90996  ...                   134\n",
              "ANDHRA PRADESH  32150  ...                    34\n",
              "WEST BENGAL     47876  ...                   254\n",
              "\n",
              "[5 rows x 5 columns]"
            ]
          },
          "metadata": {
            "tags": []
          },
          "execution_count": 28
        }
      ]
    },
    {
      "cell_type": "markdown",
      "metadata": {
        "id": "tj15nSm10a2C"
      },
      "source": [
        "For Domestic Violance case -"
      ]
    },
    {
      "cell_type": "code",
      "metadata": {
        "colab": {
          "base_uri": "https://localhost:8080/",
          "height": 235
        },
        "id": "_Z-wHOL_0bia",
        "outputId": "65e0fcc4-85f9-411a-ee69-4d21aacc97e0"
      },
      "source": [
        "counts_df.sort_values(by = 'Domestic_Cruelty', ascending = False).head(5)"
      ],
      "execution_count": 29,
      "outputs": [
        {
          "output_type": "execute_result",
          "data": {
            "text/html": [
              "<div>\n",
              "<style scoped>\n",
              "    .dataframe tbody tr th:only-of-type {\n",
              "        vertical-align: middle;\n",
              "    }\n",
              "\n",
              "    .dataframe tbody tr th {\n",
              "        vertical-align: top;\n",
              "    }\n",
              "\n",
              "    .dataframe thead th {\n",
              "        text-align: right;\n",
              "    }\n",
              "</style>\n",
              "<table border=\"1\" class=\"dataframe\">\n",
              "  <thead>\n",
              "    <tr style=\"text-align: right;\">\n",
              "      <th></th>\n",
              "      <th>Rape</th>\n",
              "      <th>Kidnapping_Abduction</th>\n",
              "      <th>Dowry_Deaths</th>\n",
              "      <th>Domestic_Cruelty</th>\n",
              "      <th>Importation_of_Girls</th>\n",
              "    </tr>\n",
              "    <tr>\n",
              "      <th>STATE/UT</th>\n",
              "      <th></th>\n",
              "      <th></th>\n",
              "      <th></th>\n",
              "      <th></th>\n",
              "      <th></th>\n",
              "    </tr>\n",
              "  </thead>\n",
              "  <tbody>\n",
              "    <tr>\n",
              "      <th>WEST BENGAL</th>\n",
              "      <td>47876</td>\n",
              "      <td>61158</td>\n",
              "      <td>12308</td>\n",
              "      <td>344124</td>\n",
              "      <td>254</td>\n",
              "    </tr>\n",
              "    <tr>\n",
              "      <th>ANDHRA PRADESH</th>\n",
              "      <td>32150</td>\n",
              "      <td>34504</td>\n",
              "      <td>13844</td>\n",
              "      <td>280906</td>\n",
              "      <td>34</td>\n",
              "    </tr>\n",
              "    <tr>\n",
              "      <th>RAJASTHAN</th>\n",
              "      <td>45684</td>\n",
              "      <td>66278</td>\n",
              "      <td>11854</td>\n",
              "      <td>262200</td>\n",
              "      <td>14</td>\n",
              "    </tr>\n",
              "    <tr>\n",
              "      <th>UTTAR PRADESH</th>\n",
              "      <td>51150</td>\n",
              "      <td>135906</td>\n",
              "      <td>57256</td>\n",
              "      <td>193738</td>\n",
              "      <td>6</td>\n",
              "    </tr>\n",
              "    <tr>\n",
              "      <th>MAHARASHTRA</th>\n",
              "      <td>48974</td>\n",
              "      <td>30368</td>\n",
              "      <td>9696</td>\n",
              "      <td>193202</td>\n",
              "      <td>6</td>\n",
              "    </tr>\n",
              "  </tbody>\n",
              "</table>\n",
              "</div>"
            ],
            "text/plain": [
              "                 Rape  ...  Importation_of_Girls\n",
              "STATE/UT               ...                      \n",
              "WEST BENGAL     47876  ...                   254\n",
              "ANDHRA PRADESH  32150  ...                    34\n",
              "RAJASTHAN       45684  ...                    14\n",
              "UTTAR PRADESH   51150  ...                     6\n",
              "MAHARASHTRA     48974  ...                     6\n",
              "\n",
              "[5 rows x 5 columns]"
            ]
          },
          "metadata": {
            "tags": []
          },
          "execution_count": 29
        }
      ]
    },
    {
      "cell_type": "markdown",
      "metadata": {
        "id": "ZBLFh2O30gQx"
      },
      "source": [
        "For Importation of Girls case -\n"
      ]
    },
    {
      "cell_type": "code",
      "metadata": {
        "colab": {
          "base_uri": "https://localhost:8080/",
          "height": 235
        },
        "id": "f2i8dymR0juK",
        "outputId": "7adc6ba2-e946-4ef1-c394-78156f7a0527"
      },
      "source": [
        "counts_df.sort_values(by = 'Importation_of_Girls', ascending = False).head(5)\n"
      ],
      "execution_count": 30,
      "outputs": [
        {
          "output_type": "execute_result",
          "data": {
            "text/html": [
              "<div>\n",
              "<style scoped>\n",
              "    .dataframe tbody tr th:only-of-type {\n",
              "        vertical-align: middle;\n",
              "    }\n",
              "\n",
              "    .dataframe tbody tr th {\n",
              "        vertical-align: top;\n",
              "    }\n",
              "\n",
              "    .dataframe thead th {\n",
              "        text-align: right;\n",
              "    }\n",
              "</style>\n",
              "<table border=\"1\" class=\"dataframe\">\n",
              "  <thead>\n",
              "    <tr style=\"text-align: right;\">\n",
              "      <th></th>\n",
              "      <th>Rape</th>\n",
              "      <th>Kidnapping_Abduction</th>\n",
              "      <th>Dowry_Deaths</th>\n",
              "      <th>Domestic_Cruelty</th>\n",
              "      <th>Importation_of_Girls</th>\n",
              "    </tr>\n",
              "    <tr>\n",
              "      <th>STATE/UT</th>\n",
              "      <th></th>\n",
              "      <th></th>\n",
              "      <th></th>\n",
              "      <th></th>\n",
              "      <th></th>\n",
              "    </tr>\n",
              "  </thead>\n",
              "  <tbody>\n",
              "    <tr>\n",
              "      <th>BIHAR</th>\n",
              "      <td>30758</td>\n",
              "      <td>57086</td>\n",
              "      <td>32206</td>\n",
              "      <td>69770</td>\n",
              "      <td>904</td>\n",
              "    </tr>\n",
              "    <tr>\n",
              "      <th>JHARKHAND</th>\n",
              "      <td>22826</td>\n",
              "      <td>14186</td>\n",
              "      <td>7896</td>\n",
              "      <td>23910</td>\n",
              "      <td>298</td>\n",
              "    </tr>\n",
              "    <tr>\n",
              "      <th>WEST BENGAL</th>\n",
              "      <td>47876</td>\n",
              "      <td>61158</td>\n",
              "      <td>12308</td>\n",
              "      <td>344124</td>\n",
              "      <td>254</td>\n",
              "    </tr>\n",
              "    <tr>\n",
              "      <th>MADHYA PRADESH</th>\n",
              "      <td>90996</td>\n",
              "      <td>35608</td>\n",
              "      <td>21090</td>\n",
              "      <td>102816</td>\n",
              "      <td>134</td>\n",
              "    </tr>\n",
              "    <tr>\n",
              "      <th>KARNATAKA</th>\n",
              "      <td>15056</td>\n",
              "      <td>16262</td>\n",
              "      <td>7016</td>\n",
              "      <td>72706</td>\n",
              "      <td>94</td>\n",
              "    </tr>\n",
              "  </tbody>\n",
              "</table>\n",
              "</div>"
            ],
            "text/plain": [
              "                 Rape  ...  Importation_of_Girls\n",
              "STATE/UT               ...                      \n",
              "BIHAR           30758  ...                   904\n",
              "JHARKHAND       22826  ...                   298\n",
              "WEST BENGAL     47876  ...                   254\n",
              "MADHYA PRADESH  90996  ...                   134\n",
              "KARNATAKA       15056  ...                    94\n",
              "\n",
              "[5 rows x 5 columns]"
            ]
          },
          "metadata": {
            "tags": []
          },
          "execution_count": 30
        }
      ]
    },
    {
      "cell_type": "markdown",
      "metadata": {
        "id": "fxB2cECt0qy6"
      },
      "source": [
        "**Q: Which state has featured in both the lists of \"Maximum number of rape cases\" and \"Maximum number of Importation cases\"**"
      ]
    },
    {
      "cell_type": "code",
      "metadata": {
        "colab": {
          "base_uri": "https://localhost:8080/",
          "height": 80
        },
        "id": "2p4u1Oju0s5a",
        "outputId": "53aa7236-5786-4cec-f60a-eb8e946e1d00"
      },
      "source": [
        "max_importation_case = max_importation_case.merge(max_rape_cases)\n",
        "max_importation_case"
      ],
      "execution_count": 34,
      "outputs": [
        {
          "output_type": "execute_result",
          "data": {
            "text/html": [
              "<div>\n",
              "<style scoped>\n",
              "    .dataframe tbody tr th:only-of-type {\n",
              "        vertical-align: middle;\n",
              "    }\n",
              "\n",
              "    .dataframe tbody tr th {\n",
              "        vertical-align: top;\n",
              "    }\n",
              "\n",
              "    .dataframe thead th {\n",
              "        text-align: right;\n",
              "    }\n",
              "</style>\n",
              "<table border=\"1\" class=\"dataframe\">\n",
              "  <thead>\n",
              "    <tr style=\"text-align: right;\">\n",
              "      <th></th>\n",
              "      <th>STATE/UT</th>\n",
              "      <th>Year</th>\n",
              "      <th>Rape</th>\n",
              "      <th>Kidnapping_Abduction</th>\n",
              "      <th>Dowry_Deaths</th>\n",
              "      <th>Domestic_Cruelty</th>\n",
              "      <th>Importation_of_Girls</th>\n",
              "    </tr>\n",
              "  </thead>\n",
              "  <tbody>\n",
              "    <tr>\n",
              "      <th>0</th>\n",
              "      <td>MADHYA PRADESH</td>\n",
              "      <td>2011</td>\n",
              "      <td>3406</td>\n",
              "      <td>1088</td>\n",
              "      <td>811</td>\n",
              "      <td>3732</td>\n",
              "      <td>45</td>\n",
              "    </tr>\n",
              "  </tbody>\n",
              "</table>\n",
              "</div>"
            ],
            "text/plain": [
              "         STATE/UT  Year  ...  Domestic_Cruelty  Importation_of_Girls\n",
              "0  MADHYA PRADESH  2011  ...              3732                    45\n",
              "\n",
              "[1 rows x 7 columns]"
            ]
          },
          "metadata": {
            "tags": []
          },
          "execution_count": 34
        }
      ]
    },
    {
      "cell_type": "markdown",
      "metadata": {
        "id": "jNVhWhRM07cd"
      },
      "source": [
        "**Q: Which state has featured in both the lists of \"Maximum number of rape cases\" and \"Maximum number of Deaths due to Domestic violance cases\".**"
      ]
    },
    {
      "cell_type": "code",
      "metadata": {
        "id": "4d-Dtdi800Fq",
        "colab": {
          "base_uri": "https://localhost:8080/",
          "height": 359
        },
        "outputId": "5bd66199-a9d6-4828-f1cf-b3244bd12a62"
      },
      "source": [
        "max_domestic_death_case = max_domestic_violance_cases.merge(max_rape_cases)\n",
        "max_domestic_violance_cases\n"
      ],
      "execution_count": 36,
      "outputs": [
        {
          "output_type": "execute_result",
          "data": {
            "text/html": [
              "<div>\n",
              "<style scoped>\n",
              "    .dataframe tbody tr th:only-of-type {\n",
              "        vertical-align: middle;\n",
              "    }\n",
              "\n",
              "    .dataframe tbody tr th {\n",
              "        vertical-align: top;\n",
              "    }\n",
              "\n",
              "    .dataframe thead th {\n",
              "        text-align: right;\n",
              "    }\n",
              "</style>\n",
              "<table border=\"1\" class=\"dataframe\">\n",
              "  <thead>\n",
              "    <tr style=\"text-align: right;\">\n",
              "      <th></th>\n",
              "      <th>STATE/UT</th>\n",
              "      <th>Year</th>\n",
              "      <th>Rape</th>\n",
              "      <th>Kidnapping_Abduction</th>\n",
              "      <th>Dowry_Deaths</th>\n",
              "      <th>Domestic_Cruelty</th>\n",
              "      <th>Importation_of_Girls</th>\n",
              "    </tr>\n",
              "  </thead>\n",
              "  <tbody>\n",
              "    <tr>\n",
              "      <th>10640</th>\n",
              "      <td>WEST BENGAL</td>\n",
              "      <td>2014</td>\n",
              "      <td>1466</td>\n",
              "      <td>4976</td>\n",
              "      <td>501</td>\n",
              "      <td>23278</td>\n",
              "      <td>4</td>\n",
              "    </tr>\n",
              "    <tr>\n",
              "      <th>8982</th>\n",
              "      <td>WEST BENGAL</td>\n",
              "      <td>2012</td>\n",
              "      <td>2046</td>\n",
              "      <td>4168</td>\n",
              "      <td>593</td>\n",
              "      <td>19865</td>\n",
              "      <td>12</td>\n",
              "    </tr>\n",
              "    <tr>\n",
              "      <th>8172</th>\n",
              "      <td>WEST BENGAL</td>\n",
              "      <td>2011</td>\n",
              "      <td>2363</td>\n",
              "      <td>3711</td>\n",
              "      <td>510</td>\n",
              "      <td>19772</td>\n",
              "      <td>0</td>\n",
              "    </tr>\n",
              "    <tr>\n",
              "      <th>9804</th>\n",
              "      <td>WEST BENGAL</td>\n",
              "      <td>2013</td>\n",
              "      <td>1685</td>\n",
              "      <td>3830</td>\n",
              "      <td>481</td>\n",
              "      <td>18116</td>\n",
              "      <td>9</td>\n",
              "    </tr>\n",
              "    <tr>\n",
              "      <th>7381</th>\n",
              "      <td>WEST BENGAL</td>\n",
              "      <td>2010</td>\n",
              "      <td>2311</td>\n",
              "      <td>2764</td>\n",
              "      <td>507</td>\n",
              "      <td>17796</td>\n",
              "      <td>8</td>\n",
              "    </tr>\n",
              "    <tr>\n",
              "      <th>6602</th>\n",
              "      <td>WEST BENGAL</td>\n",
              "      <td>2009</td>\n",
              "      <td>2336</td>\n",
              "      <td>2187</td>\n",
              "      <td>506</td>\n",
              "      <td>16112</td>\n",
              "      <td>5</td>\n",
              "    </tr>\n",
              "    <tr>\n",
              "      <th>10445</th>\n",
              "      <td>RAJASTHAN</td>\n",
              "      <td>2014</td>\n",
              "      <td>3759</td>\n",
              "      <td>4421</td>\n",
              "      <td>408</td>\n",
              "      <td>15905</td>\n",
              "      <td>0</td>\n",
              "    </tr>\n",
              "    <tr>\n",
              "      <th>9628</th>\n",
              "      <td>RAJASTHAN</td>\n",
              "      <td>2013</td>\n",
              "      <td>3285</td>\n",
              "      <td>4047</td>\n",
              "      <td>453</td>\n",
              "      <td>15094</td>\n",
              "      <td>1</td>\n",
              "    </tr>\n",
              "    <tr>\n",
              "      <th>9050</th>\n",
              "      <td>ANDHRA PRADESH</td>\n",
              "      <td>2013</td>\n",
              "      <td>1635</td>\n",
              "      <td>1595</td>\n",
              "      <td>492</td>\n",
              "      <td>15084</td>\n",
              "      <td>0</td>\n",
              "    </tr>\n",
              "    <tr>\n",
              "      <th>5835</th>\n",
              "      <td>WEST BENGAL</td>\n",
              "      <td>2008</td>\n",
              "      <td>2263</td>\n",
              "      <td>1907</td>\n",
              "      <td>451</td>\n",
              "      <td>13663</td>\n",
              "      <td>5</td>\n",
              "    </tr>\n",
              "  </tbody>\n",
              "</table>\n",
              "</div>"
            ],
            "text/plain": [
              "             STATE/UT  Year  ...  Domestic_Cruelty  Importation_of_Girls\n",
              "10640     WEST BENGAL  2014  ...             23278                     4\n",
              "8982      WEST BENGAL  2012  ...             19865                    12\n",
              "8172      WEST BENGAL  2011  ...             19772                     0\n",
              "9804      WEST BENGAL  2013  ...             18116                     9\n",
              "7381      WEST BENGAL  2010  ...             17796                     8\n",
              "6602      WEST BENGAL  2009  ...             16112                     5\n",
              "10445       RAJASTHAN  2014  ...             15905                     0\n",
              "9628        RAJASTHAN  2013  ...             15094                     1\n",
              "9050   ANDHRA PRADESH  2013  ...             15084                     0\n",
              "5835      WEST BENGAL  2008  ...             13663                     5\n",
              "\n",
              "[10 rows x 7 columns]"
            ]
          },
          "metadata": {
            "tags": []
          },
          "execution_count": 36
        }
      ]
    }
  ]
}